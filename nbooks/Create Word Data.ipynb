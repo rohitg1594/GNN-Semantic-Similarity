{
 "cells": [
  {
   "cell_type": "code",
   "execution_count": 2,
   "metadata": {},
   "outputs": [],
   "source": [
    "from os.path import join"
   ]
  },
  {
   "cell_type": "code",
   "execution_count": 3,
   "metadata": {},
   "outputs": [],
   "source": [
    "splits= ['valid', 'train', 'test']\n",
    "langs = ['en', 'de']\n",
    "data_dir = \"/nfs/team/nlp/users/rgupta/NMT/code/fairseq/data/corpora\""
   ]
  },
  {
   "cell_type": "code",
   "execution_count": 8,
   "metadata": {},
   "outputs": [],
   "source": [
    "data =  {}\n",
    "for lang in langs:\n",
    "    for split in splits:\n",
    "        with open(join(data_dir, f\"iwslt14.{split}.{lang}\")) as f:\n",
    "            lines = [line.strip() for line in f.readlines()]\n",
    "            if split == 'valid':\n",
    "                split = 'dev'\n",
    "            data[(split, lang)] = lines"
   ]
  },
  {
   "cell_type": "code",
   "execution_count": 7,
   "metadata": {},
   "outputs": [],
   "source": [
    "save_dir = \"/nfs/team/nlp/users/rgupta/NMT/code/GNN-Semantic-Similarity/data/corpora/iwslt14/\""
   ]
  },
  {
   "cell_type": "code",
   "execution_count": 9,
   "metadata": {},
   "outputs": [],
   "source": [
    "for lang in langs:\n",
    "    for split in ['dev', 'train', 'test']:\n",
    "        with open(join(save_dir, \"words-mix-new\", f\"{split}.{lang}\"), 'w') as f:\n",
    "            for line in data[(split, lang)]:\n",
    "                f.write(\" \".join(line.split()) + \"\\n\")\n",
    "        with open(join(save_dir, \"words-lower-new\", f\"{split}.{lang}\"), 'w') as f:\n",
    "            for line in data[(split, lang)]:\n",
    "                f.write(\" \".join([word.lower() for word in line.split()]) + \"\\n\")"
   ]
  },
  {
   "cell_type": "code",
   "execution_count": null,
   "metadata": {},
   "outputs": [],
   "source": []
  }
 ],
 "metadata": {
  "kernelspec": {
   "display_name": "Python 3",
   "language": "python",
   "name": "python3"
  },
  "language_info": {
   "codemirror_mode": {
    "name": "ipython",
    "version": 3
   },
   "file_extension": ".py",
   "mimetype": "text/x-python",
   "name": "python",
   "nbconvert_exporter": "python",
   "pygments_lexer": "ipython3",
   "version": "3.7.2"
  }
 },
 "nbformat": 4,
 "nbformat_minor": 2
}

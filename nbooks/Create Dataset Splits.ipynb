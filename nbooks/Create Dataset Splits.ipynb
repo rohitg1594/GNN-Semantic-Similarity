{
 "cells": [
  {
   "cell_type": "code",
   "execution_count": 1,
   "metadata": {},
   "outputs": [],
   "source": [
    "from os.path import join\n",
    "import numpy as np"
   ]
  },
  {
   "cell_type": "code",
   "execution_count": 2,
   "metadata": {},
   "outputs": [],
   "source": [
    "np.random.seed = 42"
   ]
  },
  {
   "cell_type": "code",
   "execution_count": 3,
   "metadata": {},
   "outputs": [],
   "source": [
    "data_dir = '/nfs/team/nlp/users/rgupta/NMT/code/GNN-Semantic-Similarity/data/'"
   ]
  },
  {
   "cell_type": "code",
   "execution_count": 4,
   "metadata": {},
   "outputs": [],
   "source": [
    "langs = ['en', 'de']\n",
    "vocab_sizes = [500, 10000, 50000]\n",
    "underscore = \"▁\""
   ]
  },
  {
   "cell_type": "code",
   "execution_count": 5,
   "metadata": {},
   "outputs": [],
   "source": [
    "corpora = {}\n",
    "for lang in langs:\n",
    "    for v in vocab_sizes:\n",
    "        with open(join(data_dir, f'corpora/iwslt14-en-de-{v}-full.{lang}')) as f:\n",
    "            corpora[f'{v}|{lang}'] = np.array(f.readlines())\n",
    "    corpora[f'words|{lang}'] = np.array([''.join(pieces).replace(underscore, ' ')[1:] for pieces in corpora[f'{v}|{lang}']])"
   ]
  },
  {
   "cell_type": "code",
   "execution_count": 6,
   "metadata": {
    "scrolled": true
   },
   "outputs": [
    {
     "name": "stdout",
     "output_type": "stream",
     "text": [
      "500|en    |166837    |▁It ▁can ▁be ▁a ▁very ▁com p l ic at ed ▁thing , ▁the ▁o ce an .\n",
      "\n",
      "10000|en  |166837    |▁It ▁can ▁be ▁a ▁very ▁complicated ▁thing , ▁the ▁ocean .\n",
      "\n",
      "50000|en  |166837    |▁It ▁can ▁be ▁a ▁very ▁complicated ▁thing , ▁the ▁ocean .\n",
      "\n",
      "words|en  |166837    |It  can  be  a  very  complicated  thing ,  the  ocean .\n",
      "\n",
      "500|de    |166837    |▁Das ▁M e er ▁kann ▁z ie m lich ▁k om p l iz iert ▁sein .\n",
      "\n",
      "10000|de  |166837    |▁Das ▁Meer ▁kann ▁ziemlich ▁kompliziert ▁sein .\n",
      "\n",
      "50000|de  |166837    |▁Das ▁Meer ▁kann ▁ziemlich ▁kompliziert ▁sein .\n",
      "\n",
      "words|de  |166837    |Das  Meer  kann  ziemlich  kompliziert  sein .\n",
      "\n"
     ]
    }
   ],
   "source": [
    "for k, v in corpora.items():\n",
    "    print('{:<10}|{:<10}|{:<10}'.format(k, len(v), v[0]))"
   ]
  },
  {
   "cell_type": "code",
   "execution_count": 7,
   "metadata": {},
   "outputs": [],
   "source": [
    "train_prop = 0.9\n",
    "dev_prop = 0.05\n",
    "test_prop = 0.05\n",
    "data_size = len(corpora[f'{vocab_sizes[0]}|{langs[0]}'])"
   ]
  },
  {
   "cell_type": "code",
   "execution_count": 8,
   "metadata": {},
   "outputs": [],
   "source": [
    "permute = np.random.permutation(data_size)"
   ]
  },
  {
   "cell_type": "code",
   "execution_count": 9,
   "metadata": {},
   "outputs": [
    {
     "data": {
      "text/plain": [
       "array([ 30702,  82337, 160452,  53966,  96283, 135867,  34459, 150766,\n",
       "        26612, 108407])"
      ]
     },
     "execution_count": 9,
     "metadata": {},
     "output_type": "execute_result"
    }
   ],
   "source": [
    "permute[:10]"
   ]
  },
  {
   "cell_type": "code",
   "execution_count": 10,
   "metadata": {},
   "outputs": [],
   "source": [
    "train_thresh = int(data_size * train_prop)\n",
    "dev_thresh = int(data_size * (train_prop + dev_prop))\n",
    "train_ids = permute[:train_thresh]\n",
    "dev_ids = permute[train_thresh:dev_thresh]\n",
    "test_ids = permute[dev_thresh:]"
   ]
  },
  {
   "cell_type": "code",
   "execution_count": 11,
   "metadata": {},
   "outputs": [
    {
     "data": {
      "text/plain": [
       "(150153, 8342, 8342)"
      ]
     },
     "execution_count": 11,
     "metadata": {},
     "output_type": "execute_result"
    }
   ],
   "source": [
    "len(train_ids), len(dev_ids), len(test_ids)"
   ]
  },
  {
   "cell_type": "code",
   "execution_count": 13,
   "metadata": {},
   "outputs": [],
   "source": [
    "for v in vocab_sizes + ['words']:\n",
    "    for lang in langs:\n",
    "        for split_ids, split in zip([train_ids, dev_ids, test_ids], ['train', 'dev', 'test']):\n",
    "            with open(join(data_dir, f'corpora/iwslt14-en-de-{v}-{split}.{lang}'), 'w') as f:\n",
    "                f.writelines(corpora[f'{v}|{lang}'][split_ids])"
   ]
  }
 ],
 "metadata": {
  "kernelspec": {
   "display_name": "Python 3",
   "language": "python",
   "name": "python3"
  },
  "language_info": {
   "codemirror_mode": {
    "name": "ipython",
    "version": 3
   },
   "file_extension": ".py",
   "mimetype": "text/x-python",
   "name": "python",
   "nbconvert_exporter": "python",
   "pygments_lexer": "ipython3",
   "version": "3.7.2"
  }
 },
 "nbformat": 4,
 "nbformat_minor": 2
}

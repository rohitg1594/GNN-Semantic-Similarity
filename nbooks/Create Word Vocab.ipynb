{
 "cells": [
  {
   "cell_type": "code",
   "execution_count": 1,
   "metadata": {},
   "outputs": [],
   "source": [
    "from os.path import join\n",
    "from collections import Counter"
   ]
  },
  {
   "cell_type": "code",
   "execution_count": 5,
   "metadata": {},
   "outputs": [],
   "source": [
    "langs = ['en', 'de']\n",
    "data_dir = '/nfs/team/nlp/users/rgupta/NMT/code/GNN-Semantic-Similarity/local/'"
   ]
  },
  {
   "cell_type": "code",
   "execution_count": 6,
   "metadata": {},
   "outputs": [
    {
     "name": "stdout",
     "output_type": "stream",
     "text": [
      "\u001b[0m\u001b[01;34mfigs\u001b[0m/  \u001b[01;34mgrid_search\u001b[0m/  \u001b[01;34mlogs\u001b[0m/\r\n"
     ]
    }
   ],
   "source": [
    "ls $data_dir"
   ]
  },
  {
   "cell_type": "code",
   "execution_count": 3,
   "metadata": {},
   "outputs": [],
   "source": [
    "lang2data = {lang: [] for lang in langs}\n",
    "\n",
    "for lang in langs:\n",
    "    with open(join(data_dir, f'corpora/iwslt14-en-de-words-full.{lang}')) as f:\n",
    "        lang2data[lang] = [line.strip() for line in f.readlines()]"
   ]
  },
  {
   "cell_type": "code",
   "execution_count": 4,
   "metadata": {},
   "outputs": [
    {
     "data": {
      "text/plain": [
       "['It  can  be  a  very  complicated  thing ,  the  ocean .',\n",
       " 'And  it  can  be  a  very  complicated  thing ,  what  human  health  is .',\n",
       " \"And  bringing  those  two  together  might  seem  a  very  daunting  task ,  but  what  I ' m  going  to  try  to  say  is  that  even  in  that  complexity ,  there ' s  some  simple  themes  that  I  think ,  if  we  understand ,  we  can  really  move  forward .\",\n",
       " \"And  those  simple  themes  aren ' t  really  themes  about  the  complex  science  of  what ' s  going  on ,  but  things  that  we  all  pretty  well  know .\",\n",
       " \"And  I ' m  going  to  start  with  this  one :  If  mom ma  ain ' t  happy ,  ain ' t  nobody  happy .\"]"
      ]
     },
     "execution_count": 4,
     "metadata": {},
     "output_type": "execute_result"
    }
   ],
   "source": [
    "lang2data['en'][:5]"
   ]
  },
  {
   "cell_type": "code",
   "execution_count": 11,
   "metadata": {},
   "outputs": [],
   "source": [
    "lang2count = {lang: Counter([word for line in data for word in line.split()]) for lang, data in lang2data.items()}\n",
    "lang2count_lower = {lang: Counter([word.lower() for line in data for word in line.split()]) for lang, data in lang2data.items()}"
   ]
  },
  {
   "cell_type": "code",
   "execution_count": 16,
   "metadata": {},
   "outputs": [
    {
     "name": "stdout",
     "output_type": "stream",
     "text": [
      "en\n",
      "Count 20266\n",
      "Count norm 18019\n",
      "Data 166837\n",
      "de\n",
      "Count 28767\n",
      "Count norm 24635\n",
      "Data 166837\n"
     ]
    }
   ],
   "source": []
  },
  {
   "cell_type": "code",
   "execution_count": 19,
   "metadata": {},
   "outputs": [],
   "source": [
    "lang2set = {lang: set() for lang in langs}\n",
    "lang2set_lower = {lang: set() for lang in langs}\n",
    "\n",
    "for lang in langs:\n",
    "    for line in lang2data[lang]:\n",
    "        for word in line.strip().split():\n",
    "            lang2set[lang].add(word)\n",
    "            lang2set_lower[lang].add(word.lower())"
   ]
  },
  {
   "cell_type": "code",
   "execution_count": 21,
   "metadata": {},
   "outputs": [
    {
     "name": "stdout",
     "output_type": "stream",
     "text": [
      "en\n",
      "Count 20266\n",
      "Set 20266\n",
      "Count lower 18019\n",
      "Set lower 18019\n",
      "Data 166837\n",
      "de\n",
      "Count 28767\n",
      "Set 28767\n",
      "Count lower 24635\n",
      "Set lower 24635\n",
      "Data 166837\n"
     ]
    }
   ],
   "source": [
    "for lang in langs:\n",
    "    print(lang)\n",
    "    print(\"Count\", len(lang2count[lang]))\n",
    "    print(\"Set\", len(lang2set[lang]))\n",
    "\n",
    "    print(\"Count lower\", len(lang2count_lower[lang]))\n",
    "    print(\"Set lower\", len(lang2set_lower[lang]))\n",
    "\n",
    "    print(\"Data\", len(lang2data[lang]))"
   ]
  },
  {
   "cell_type": "code",
   "execution_count": 28,
   "metadata": {},
   "outputs": [],
   "source": [
    "for lang in langs:\n",
    "    with open(join(data_dir, f\"vocabs/words-mix.{lang}\"), 'w') as f:\n",
    "        for token, count in lang2count[lang].most_common():\n",
    "            f.write(f\"{token} {count}\\n\")\n",
    "            \n",
    "    with open(join(data_dir, f\"vocabs/words-lower.{lang}\"), 'w') as f:\n",
    "        for token, count in lang2count_lower[lang].most_common():\n",
    "            f.write(f\"{token} {count}\\n\")"
   ]
  },
  {
   "cell_type": "markdown",
   "metadata": {},
   "source": [
    "## Create dataset with lower-cased words"
   ]
  },
  {
   "cell_type": "code",
   "execution_count": 30,
   "metadata": {},
   "outputs": [],
   "source": [
    "for split in ['full', 'train', 'dev', 'test']:\n",
    "    for lang in langs:\n",
    "        with open(join(data_dir, f'corpora/iwslt14-en-de/words-mix/words-mix-{split}.{lang}')) as f:\n",
    "            data = f.readlines()\n",
    "        with open(join(data_dir, f'corpora/iwslt14-en-de/words-lower/words-lower-{split}.{lang}'), 'w') as f:\n",
    "            for line in data:\n",
    "                f.write(line.lower())"
   ]
  },
  {
   "cell_type": "code",
   "execution_count": null,
   "metadata": {},
   "outputs": [],
   "source": []
  }
 ],
 "metadata": {
  "kernelspec": {
   "display_name": "Python 3",
   "language": "python",
   "name": "python3"
  },
  "language_info": {
   "codemirror_mode": {
    "name": "ipython",
    "version": 3
   },
   "file_extension": ".py",
   "mimetype": "text/x-python",
   "name": "python",
   "nbconvert_exporter": "python",
   "pygments_lexer": "ipython3",
   "version": "3.7.2"
  }
 },
 "nbformat": 4,
 "nbformat_minor": 2
}
